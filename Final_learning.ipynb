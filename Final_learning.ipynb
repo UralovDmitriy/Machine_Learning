{
 "cells": [
  {
   "cell_type": "code",
   "execution_count": 1,
   "metadata": {},
   "outputs": [],
   "source": [
    "import sklearn\n",
    "import matplotlib.pyplot as plt\n",
    "import numpy as np\n",
    "import pandas as pd\n",
    "import seaborn as sns\n",
    "import warnings\n",
    "warnings.filterwarnings(\"ignore\")\n",
    "from sklearn.linear_model import LogisticRegression\n",
    "from sklearn.ensemble import RandomForestClassifier\n",
    "from sklearn.ensemble import GradientBoostingClassifier\n",
    "from sklearn import metrics\n",
    "from sklearn import preprocessing\n",
    "from sklearn.model_selection import train_test_split\n",
    "from sklearn.preprocessing import label_binarize\n",
    "from sklearn.metrics import roc_curve, auc"
   ]
  },
  {
   "cell_type": "code",
   "execution_count": 2,
   "metadata": {},
   "outputs": [],
   "source": [
    "data = pd.read_csv('app_train_pred_final.csv')"
   ]
  },
  {
   "cell_type": "code",
   "execution_count": 3,
   "metadata": {},
   "outputs": [
    {
     "data": {
      "text/plain": [
       "(307507, 44)"
      ]
     },
     "execution_count": 3,
     "metadata": {},
     "output_type": "execute_result"
    }
   ],
   "source": [
    "data.shape"
   ]
  },
  {
   "cell_type": "code",
   "execution_count": 4,
   "metadata": {},
   "outputs": [],
   "source": [
    "test = pd.read_csv('app_test_pred_final.csv')"
   ]
  },
  {
   "cell_type": "code",
   "execution_count": 5,
   "metadata": {},
   "outputs": [
    {
     "data": {
      "text/plain": [
       "(48744, 43)"
      ]
     },
     "execution_count": 5,
     "metadata": {},
     "output_type": "execute_result"
    }
   ],
   "source": [
    "test.shape"
   ]
  },
  {
   "cell_type": "code",
   "execution_count": 6,
   "metadata": {},
   "outputs": [],
   "source": [
    "X = data.loc[:, data.columns != 'TARGET']\n",
    "y = data.loc[:, data.columns == 'TARGET']\n",
    "\n",
    "X_train, X_test, y_train, y_test = train_test_split(X, y, test_size=0.3, random_state=42)\n",
    "\n",
    "forest = GradientBoostingClassifier(n_estimators = 100, max_depth = 5, max_features = 15)\n",
    "forest.fit(X_train, y_train.values.ravel())\n",
    "\n",
    "y_pred_proba = forest.predict_proba(X_test)\n",
    "y_pred_proba_train = forest.predict_proba(X_train)"
   ]
  },
  {
   "cell_type": "code",
   "execution_count": 7,
   "metadata": {},
   "outputs": [
    {
     "name": "stdout",
     "output_type": "stream",
     "text": [
      "Test:  0.7621813269666108\n",
      "Train:  0.7937672604958015\n"
     ]
    }
   ],
   "source": [
    "score = metrics.roc_auc_score(y_test['TARGET'].values, y_pred_proba[:, 1])\n",
    "print(\"Test: \", score)\n",
    "score = metrics.roc_auc_score(y_train['TARGET'].values, y_pred_proba_train[:, 1])\n",
    "print(\"Train: \", score)"
   ]
  },
  {
   "cell_type": "code",
   "execution_count": 8,
   "metadata": {},
   "outputs": [],
   "source": [
    "fpr = dict()\n",
    "tpr = dict()\n",
    "roc_auc = dict()\n",
    "\n",
    "fpr, tpr, thresholds = metrics.roc_curve(y_test, y_pred_proba[:, 1])\n",
    "roc_auc = auc(fpr, tpr)"
   ]
  },
  {
   "cell_type": "code",
   "execution_count": 9,
   "metadata": {},
   "outputs": [
    {
     "data": {
      "image/png": "[encoded data removed]",
      "text/plain": [
       "<Figure size 504x504 with 1 Axes>"
      ]
     },
     "metadata": {},
     "output_type": "display_data"
    }
   ],
   "source": [
    "plt.figure(figsize = (7,7))\n",
    "lw = 2\n",
    "plt.plot(fpr, tpr, color='darkorange', lw=lw, label='ROC curve (area = %0.2f)' % roc_auc)\n",
    "plt.plot([0, 1], [0, 1], color='navy', lw=lw, linestyle='--')\n",
    "plt.xlim([0.0, 1.0])\n",
    "plt.ylim([0.0, 1.05])\n",
    "plt.xlabel('False Positive Rate')\n",
    "plt.ylabel('True Positive Rate')\n",
    "plt.title('Receiver operating characteristic example')\n",
    "plt.legend(loc=\"lower right\")\n",
    "plt.show()"
   ]
  },
  {
   "cell_type": "code",
   "execution_count": 10,
   "metadata": {},
   "outputs": [],
   "source": [
    "cutoff = 0.0; \n",
    "\n",
    "lost = 0.8;\n",
    "plus = 0.05; \n",
    "\n",
    "y_plus = []\n",
    "x_cut = []\n",
    "y_delta = []\n",
    "\n",
    "while cutoff <= 1.0:\n",
    "    y_predict = []\n",
    "    \n",
    "    for i in range(y_pred_proba_train.shape[0]):\n",
    "        if y_pred_proba_train[i][0] > cutoff: \n",
    "            y_predict.append(0)\n",
    "        else: \n",
    "            y_predict.append(1)\n",
    "        \n",
    "    allPlus = 0\n",
    "    allDelta = 0\n",
    "            \n",
    "    temp = X_train['AMT_CREDIT'].values\n",
    "    target = y_train.values\n",
    "    \n",
    "    for i in range(temp.shape[0]): \n",
    "        if y_predict[i] == 0:\n",
    "            if target[i] == 0: \n",
    "                allPlus += plus*temp[i]\n",
    "            else:\n",
    "                allPlus -= lost*temp[i]\n",
    "        else: \n",
    "            if target[i] == 0: \n",
    "                allDelta -= plus*temp[i]\n",
    "            else:\n",
    "                allDelta += lost*temp[i]\n",
    "            \n",
    "    \n",
    "    x_cut.append(cutoff)\n",
    "    y_plus.append(allPlus)\n",
    "    y_delta.append(allDelta)\n",
    "            \n",
    "        \n",
    "    cutoff += 0.01"
   ]
  },
  {
   "cell_type": "code",
   "execution_count": 11,
   "metadata": {},
   "outputs": [
    {
     "data": {
      "text/plain": [
       "[<matplotlib.lines.Line2D at 0x1d5654cd1d0>]"
      ]
     },
     "execution_count": 11,
     "metadata": {},
     "output_type": "execute_result"
    },
    {
     "data": {
      "image/png": "[encoded data removed]",
      "text/plain": [
       "<Figure size 432x288 with 1 Axes>"
      ]
     },
     "metadata": {},
     "output_type": "display_data"
    }
   ],
   "source": [
    "plt.plot(x_cut, y_plus)"
   ]
  },
  {
   "cell_type": "code",
   "execution_count": 12,
   "metadata": {},
   "outputs": [
    {
     "name": "stdout",
     "output_type": "stream",
     "text": [
      "0.9400000000000006\n"
     ]
    }
   ],
   "source": [
    "maxx = y_plus[0]\n",
    "index = 0\n",
    "\n",
    "for i in range(100):\n",
    "    if y_plus[i] > maxx: \n",
    "        maxx = y_plus[i]\n",
    "        index = i\n",
    "        \n",
    "cutoff = x_cut[index]\n",
    "print(cutoff)"
   ]
  },
  {
   "cell_type": "code",
   "execution_count": 13,
   "metadata": {},
   "outputs": [
    {
     "data": {
      "text/plain": [
       "[<matplotlib.lines.Line2D at 0x1d56552f668>]"
      ]
     },
     "execution_count": 13,
     "metadata": {},
     "output_type": "execute_result"
    },
    {
     "data": {
      "image/png": "[encoded data removed]",
      "text/plain": [
       "<Figure size 432x288 with 1 Axes>"
      ]
     },
     "metadata": {},
     "output_type": "display_data"
    }
   ],
   "source": [
    "plt.plot(x_cut, y_delta)"
   ]
  },
  {
   "cell_type": "code",
   "execution_count": 14,
   "metadata": {},
   "outputs": [
    {
     "name": "stdout",
     "output_type": "stream",
     "text": [
      "0.9400000000000006\n"
     ]
    }
   ],
   "source": [
    "maxx = y_delta[0]\n",
    "index = 0\n",
    "\n",
    "for i in range(100):\n",
    "    if y_delta[i] > maxx: \n",
    "        maxx = y_delta[i]\n",
    "        index = i\n",
    "        \n",
    "cutoff = x_cut[index]\n",
    "print(cutoff)"
   ]
  },
  {
   "cell_type": "code",
   "execution_count": 15,
   "metadata": {},
   "outputs": [
    {
     "name": "stdout",
     "output_type": "stream",
     "text": [
      "0.2568467667289787\n"
     ]
    }
   ],
   "source": [
    "y_predict = []\n",
    "\n",
    "for i in range(y_pred_proba_train.shape[0]):\n",
    "    if y_pred_proba_train[i][0] > cutoff: \n",
    "        y_predict.append(0)\n",
    "    else: \n",
    "        y_predict.append(1)\n",
    "        \n",
    "print(metrics.f1_score(y_train['TARGET'].values, y_predict))"
   ]
  },
  {
   "cell_type": "code",
   "execution_count": 16,
   "metadata": {},
   "outputs": [],
   "source": [
    "cutoff = 0.0; \n",
    "\n",
    "lost = 0.8;\n",
    "plus = 0.05; \n",
    "\n",
    "y_plus = []\n",
    "x_cut = []\n",
    "y_delta = []\n",
    "\n",
    "while cutoff <= 1.0:\n",
    "    y_predict = []\n",
    "    \n",
    "    for i in range(y_pred_proba.shape[0]):\n",
    "        if y_pred_proba[i][0] > cutoff: \n",
    "            y_predict.append(0)\n",
    "        else: \n",
    "            y_predict.append(1)\n",
    "        \n",
    "    allPlus = 0\n",
    "    allDelta = 0\n",
    "            \n",
    "    temp = X_test['AMT_CREDIT'].values\n",
    "    target = y_test.values\n",
    "    \n",
    "    for i in range(temp.shape[0]): \n",
    "        if y_predict[i] == 0:\n",
    "            if target[i] == 0: \n",
    "                allPlus += plus*temp[i]\n",
    "            else:\n",
    "                allPlus -= lost*temp[i]\n",
    "        else: \n",
    "            if target[i] == 0: \n",
    "                allDelta -= plus*temp[i]\n",
    "            else:\n",
    "                allDelta += lost*temp[i]\n",
    "            \n",
    "    x_cut.append(cutoff)\n",
    "    y_plus.append(allPlus)\n",
    "    y_delta.append(allDelta)\n",
    "            \n",
    "    cutoff += 0.01"
   ]
  },
  {
   "cell_type": "code",
   "execution_count": 17,
   "metadata": {},
   "outputs": [
    {
     "data": {
      "text/plain": [
       "[<matplotlib.lines.Line2D at 0x1d565593dd8>]"
      ]
     },
     "execution_count": 17,
     "metadata": {},
     "output_type": "execute_result"
    },
    {
     "data": {
      "image/png": "[encoded data removed]",
      "text/plain": [
       "<Figure size 432x288 with 1 Axes>"
      ]
     },
     "metadata": {},
     "output_type": "display_data"
    }
   ],
   "source": [
    "plt.plot(x_cut, y_plus)"
   ]
  },
  {
   "cell_type": "code",
   "execution_count": 18,
   "metadata": {},
   "outputs": [
    {
     "name": "stdout",
     "output_type": "stream",
     "text": [
      "0.9400000000000006\n"
     ]
    }
   ],
   "source": [
    "maxx = y_plus[0]\n",
    "index = 0\n",
    "\n",
    "for i in range(100):\n",
    "    if y_plus[i] > maxx: \n",
    "        maxx = y_plus[i]\n",
    "        index = i\n",
    "        \n",
    "cutoff = x_cut[index]\n",
    "print(cutoff)"
   ]
  },
  {
   "cell_type": "code",
   "execution_count": 19,
   "metadata": {},
   "outputs": [
    {
     "data": {
      "text/plain": [
       "[<matplotlib.lines.Line2D at 0x1d5655f3f98>]"
      ]
     },
     "execution_count": 19,
     "metadata": {},
     "output_type": "execute_result"
    },
    {
     "data": {
      "image/png": "[encoded data removed]",
      "text/plain": [
       "<Figure size 432x288 with 1 Axes>"
      ]
     },
     "metadata": {},
     "output_type": "display_data"
    }
   ],
   "source": [
    "plt.plot(x_cut, y_delta)"
   ]
  },
  {
   "cell_type": "code",
   "execution_count": 20,
   "metadata": {},
   "outputs": [
    {
     "name": "stdout",
     "output_type": "stream",
     "text": [
      "0.9400000000000006\n"
     ]
    }
   ],
   "source": [
    "maxx = y_delta[0]\n",
    "index = 0\n",
    "\n",
    "for i in range(100):\n",
    "    if y_delta[i] > maxx: \n",
    "        maxx = y_delta[i]\n",
    "        index = i\n",
    "        \n",
    "cutoff = x_cut[index]\n",
    "print(cutoff)"
   ]
  },
  {
   "cell_type": "code",
   "execution_count": 21,
   "metadata": {},
   "outputs": [
    {
     "name": "stdout",
     "output_type": "stream",
     "text": [
      "0.2439991562961401\n"
     ]
    }
   ],
   "source": [
    "y_predict = []\n",
    "\n",
    "for i in range(y_pred_proba.shape[0]):\n",
    "    if y_pred_proba[i][0] > cutoff: \n",
    "        y_predict.append(0)\n",
    "    else: \n",
    "        y_predict.append(1)\n",
    "        \n",
    "print(metrics.f1_score(y_test['TARGET'].values, y_predict))"
   ]
  },
  {
   "cell_type": "code",
   "execution_count": 22,
   "metadata": {},
   "outputs": [],
   "source": [
    "#Submission\n",
    "predictions = forest.predict_proba(test)[:,1]\n",
    "submit = test[['SK_ID_CURR']]\n",
    "submit['TARGET'] = predictions\n",
    "\n",
    "submit.to_csv('prediction.csv', index = False)"
   ]
  },
  {
   "cell_type": "code",
   "execution_count": 24,
   "metadata": {},
   "outputs": [
    {
     "name": "stdout",
     "output_type": "stream",
     "text": [
      "       SK_ID_CURR    TARGET\n",
      "0          100001  0.030797\n",
      "1          100005  0.126465\n",
      "2          100013  0.036419\n",
      "3          100028  0.031401\n",
      "4          100038  0.138503\n",
      "5          100042  0.075245\n",
      "6          100057  0.017850\n",
      "7          100065  0.029117\n",
      "8          100066  0.022454\n",
      "9          100067  0.183111\n",
      "10         100074  0.054694\n",
      "11         100090  0.069787\n",
      "12         100091  0.126000\n",
      "13         100092  0.096785\n",
      "14         100106  0.029118\n",
      "15         100107  0.118056\n",
      "16         100109  0.054794\n",
      "17         100117  0.048168\n",
      "18         100128  0.082166\n",
      "19         100141  0.017659\n",
      "20         100150  0.043521\n",
      "21         100168  0.017744\n",
      "22         100169  0.070197\n",
      "23         100170  0.072611\n",
      "24         100171  0.056104\n",
      "25         100172  0.088050\n",
      "26         100184  0.167926\n",
      "27         100187  0.065250\n",
      "28         100212  0.164861\n",
      "29         100222  0.075650\n",
      "...           ...       ...\n",
      "48714      455963  0.033806\n",
      "48715      455965  0.024870\n",
      "48716      456007  0.298818\n",
      "48717      456008  0.023754\n",
      "48718      456009  0.063181\n",
      "48719      456010  0.119323\n",
      "48720      456011  0.037810\n",
      "48721      456013  0.077509\n",
      "48722      456028  0.092916\n",
      "48723      456058  0.068485\n",
      "48724      456111  0.177256\n",
      "48725      456114  0.085473\n",
      "48726      456115  0.040319\n",
      "48727      456116  0.013419\n",
      "48728      456119  0.018420\n",
      "48729      456120  0.043019\n",
      "48730      456122  0.093267\n",
      "48731      456123  0.025360\n",
      "48732      456166  0.061111\n",
      "48733      456167  0.034586\n",
      "48734      456168  0.046589\n",
      "48735      456169  0.063418\n",
      "48736      456170  0.015151\n",
      "48737      456189  0.125293\n",
      "48738      456202  0.093790\n",
      "48739      456221  0.085658\n",
      "48740      456222  0.081424\n",
      "48741      456223  0.018749\n",
      "48742      456224  0.040211\n",
      "48743      456250  0.219044\n",
      "\n",
      "[48744 rows x 2 columns]\n"
     ]
    }
   ],
   "source": [
    "print(submit)"
   ]
  }
 ],
 "metadata": {
  "kernelspec": {
   "display_name": "Python 3",
   "language": "python",
   "name": "python3"
  },
  "language_info": {
   "codemirror_mode": {
    "name": "ipython",
    "version": 3
   },
   "file_extension": ".py",
   "mimetype": "text/x-python",
   "name": "python",
   "nbconvert_exporter": "python",
   "pygments_lexer": "ipython3",
   "version": "3.6.5"
  }
 },
 "nbformat": 4,
 "nbformat_minor": 2
}
